{
  "nbformat": 4,
  "nbformat_minor": 0,
  "metadata": {
    "colab": {
      "name": "Image_Class_PI",
      "provenance": [],
      "collapsed_sections": [],
      "authorship_tag": "ABX9TyOOU3wxMAQ+YYgIw4HrXTRO"
    },
    "kernelspec": {
      "name": "python3",
      "display_name": "Python 3"
    },
    "accelerator": "GPU"
  },
  "cells": [
    {
      "cell_type": "code",
      "metadata": {
        "id": "neN-MjB0_bYf",
        "colab": {
          "base_uri": "https://localhost:8080/",
          "height": 726
        },
        "outputId": "d01c8991-1414-414b-bf5e-eb1955ba6872"
      },
      "source": [
        "!pip install tensorflow-gpu==2.0.0\n",
        "!pip install tensorflow_hub"
      ],
      "execution_count": null,
      "outputs": [
        {
          "output_type": "stream",
          "text": [
            "Requirement already satisfied: tensorflow-gpu==2.0.0 in /usr/local/lib/python3.6/dist-packages (2.0.0)\n",
            "Requirement already satisfied: numpy<2.0,>=1.16.0 in /usr/local/lib/python3.6/dist-packages (from tensorflow-gpu==2.0.0) (1.18.5)\n",
            "Requirement already satisfied: tensorflow-estimator<2.1.0,>=2.0.0 in /usr/local/lib/python3.6/dist-packages (from tensorflow-gpu==2.0.0) (2.0.1)\n",
            "Requirement already satisfied: opt-einsum>=2.3.2 in /usr/local/lib/python3.6/dist-packages (from tensorflow-gpu==2.0.0) (3.3.0)\n",
            "Requirement already satisfied: google-pasta>=0.1.6 in /usr/local/lib/python3.6/dist-packages (from tensorflow-gpu==2.0.0) (0.2.0)\n",
            "Requirement already satisfied: grpcio>=1.8.6 in /usr/local/lib/python3.6/dist-packages (from tensorflow-gpu==2.0.0) (1.30.0)\n",
            "Requirement already satisfied: wrapt>=1.11.1 in /usr/local/lib/python3.6/dist-packages (from tensorflow-gpu==2.0.0) (1.12.1)\n",
            "Requirement already satisfied: termcolor>=1.1.0 in /usr/local/lib/python3.6/dist-packages (from tensorflow-gpu==2.0.0) (1.1.0)\n",
            "Requirement already satisfied: six>=1.10.0 in /usr/local/lib/python3.6/dist-packages (from tensorflow-gpu==2.0.0) (1.15.0)\n",
            "Requirement already satisfied: gast==0.2.2 in /usr/local/lib/python3.6/dist-packages (from tensorflow-gpu==2.0.0) (0.2.2)\n",
            "Requirement already satisfied: astor>=0.6.0 in /usr/local/lib/python3.6/dist-packages (from tensorflow-gpu==2.0.0) (0.8.1)\n",
            "Requirement already satisfied: protobuf>=3.6.1 in /usr/local/lib/python3.6/dist-packages (from tensorflow-gpu==2.0.0) (3.12.2)\n",
            "Requirement already satisfied: absl-py>=0.7.0 in /usr/local/lib/python3.6/dist-packages (from tensorflow-gpu==2.0.0) (0.9.0)\n",
            "Requirement already satisfied: wheel>=0.26 in /usr/local/lib/python3.6/dist-packages (from tensorflow-gpu==2.0.0) (0.34.2)\n",
            "Requirement already satisfied: keras-applications>=1.0.8 in /usr/local/lib/python3.6/dist-packages (from tensorflow-gpu==2.0.0) (1.0.8)\n",
            "Requirement already satisfied: tensorboard<2.1.0,>=2.0.0 in /usr/local/lib/python3.6/dist-packages (from tensorflow-gpu==2.0.0) (2.0.2)\n",
            "Requirement already satisfied: keras-preprocessing>=1.0.5 in /usr/local/lib/python3.6/dist-packages (from tensorflow-gpu==2.0.0) (1.1.2)\n",
            "Requirement already satisfied: setuptools in /usr/local/lib/python3.6/dist-packages (from protobuf>=3.6.1->tensorflow-gpu==2.0.0) (49.1.0)\n",
            "Requirement already satisfied: h5py in /usr/local/lib/python3.6/dist-packages (from keras-applications>=1.0.8->tensorflow-gpu==2.0.0) (2.10.0)\n",
            "Requirement already satisfied: google-auth-oauthlib<0.5,>=0.4.1 in /usr/local/lib/python3.6/dist-packages (from tensorboard<2.1.0,>=2.0.0->tensorflow-gpu==2.0.0) (0.4.1)\n",
            "Requirement already satisfied: markdown>=2.6.8 in /usr/local/lib/python3.6/dist-packages (from tensorboard<2.1.0,>=2.0.0->tensorflow-gpu==2.0.0) (3.2.2)\n",
            "Requirement already satisfied: werkzeug>=0.11.15 in /usr/local/lib/python3.6/dist-packages (from tensorboard<2.1.0,>=2.0.0->tensorflow-gpu==2.0.0) (1.0.1)\n",
            "Requirement already satisfied: google-auth<2,>=1.6.3 in /usr/local/lib/python3.6/dist-packages (from tensorboard<2.1.0,>=2.0.0->tensorflow-gpu==2.0.0) (1.17.2)\n",
            "Requirement already satisfied: requests<3,>=2.21.0 in /usr/local/lib/python3.6/dist-packages (from tensorboard<2.1.0,>=2.0.0->tensorflow-gpu==2.0.0) (2.23.0)\n",
            "Requirement already satisfied: requests-oauthlib>=0.7.0 in /usr/local/lib/python3.6/dist-packages (from google-auth-oauthlib<0.5,>=0.4.1->tensorboard<2.1.0,>=2.0.0->tensorflow-gpu==2.0.0) (1.3.0)\n",
            "Requirement already satisfied: importlib-metadata; python_version < \"3.8\" in /usr/local/lib/python3.6/dist-packages (from markdown>=2.6.8->tensorboard<2.1.0,>=2.0.0->tensorflow-gpu==2.0.0) (1.7.0)\n",
            "Requirement already satisfied: rsa<5,>=3.1.4; python_version >= \"3\" in /usr/local/lib/python3.6/dist-packages (from google-auth<2,>=1.6.3->tensorboard<2.1.0,>=2.0.0->tensorflow-gpu==2.0.0) (4.6)\n",
            "Requirement already satisfied: pyasn1-modules>=0.2.1 in /usr/local/lib/python3.6/dist-packages (from google-auth<2,>=1.6.3->tensorboard<2.1.0,>=2.0.0->tensorflow-gpu==2.0.0) (0.2.8)\n",
            "Requirement already satisfied: cachetools<5.0,>=2.0.0 in /usr/local/lib/python3.6/dist-packages (from google-auth<2,>=1.6.3->tensorboard<2.1.0,>=2.0.0->tensorflow-gpu==2.0.0) (4.1.1)\n",
            "Requirement already satisfied: urllib3!=1.25.0,!=1.25.1,<1.26,>=1.21.1 in /usr/local/lib/python3.6/dist-packages (from requests<3,>=2.21.0->tensorboard<2.1.0,>=2.0.0->tensorflow-gpu==2.0.0) (1.24.3)\n",
            "Requirement already satisfied: chardet<4,>=3.0.2 in /usr/local/lib/python3.6/dist-packages (from requests<3,>=2.21.0->tensorboard<2.1.0,>=2.0.0->tensorflow-gpu==2.0.0) (3.0.4)\n",
            "Requirement already satisfied: idna<3,>=2.5 in /usr/local/lib/python3.6/dist-packages (from requests<3,>=2.21.0->tensorboard<2.1.0,>=2.0.0->tensorflow-gpu==2.0.0) (2.10)\n",
            "Requirement already satisfied: certifi>=2017.4.17 in /usr/local/lib/python3.6/dist-packages (from requests<3,>=2.21.0->tensorboard<2.1.0,>=2.0.0->tensorflow-gpu==2.0.0) (2020.6.20)\n",
            "Requirement already satisfied: oauthlib>=3.0.0 in /usr/local/lib/python3.6/dist-packages (from requests-oauthlib>=0.7.0->google-auth-oauthlib<0.5,>=0.4.1->tensorboard<2.1.0,>=2.0.0->tensorflow-gpu==2.0.0) (3.1.0)\n",
            "Requirement already satisfied: zipp>=0.5 in /usr/local/lib/python3.6/dist-packages (from importlib-metadata; python_version < \"3.8\"->markdown>=2.6.8->tensorboard<2.1.0,>=2.0.0->tensorflow-gpu==2.0.0) (3.1.0)\n",
            "Requirement already satisfied: pyasn1>=0.1.3 in /usr/local/lib/python3.6/dist-packages (from rsa<5,>=3.1.4; python_version >= \"3\"->google-auth<2,>=1.6.3->tensorboard<2.1.0,>=2.0.0->tensorflow-gpu==2.0.0) (0.4.8)\n",
            "Requirement already satisfied: tensorflow_hub in /usr/local/lib/python3.6/dist-packages (0.8.0)\n",
            "Requirement already satisfied: protobuf>=3.8.0 in /usr/local/lib/python3.6/dist-packages (from tensorflow_hub) (3.12.2)\n",
            "Requirement already satisfied: numpy>=1.12.0 in /usr/local/lib/python3.6/dist-packages (from tensorflow_hub) (1.18.5)\n",
            "Requirement already satisfied: six>=1.12.0 in /usr/local/lib/python3.6/dist-packages (from tensorflow_hub) (1.15.0)\n",
            "Requirement already satisfied: setuptools in /usr/local/lib/python3.6/dist-packages (from protobuf>=3.8.0->tensorflow_hub) (49.1.0)\n"
          ],
          "name": "stdout"
        }
      ]
    },
    {
      "cell_type": "code",
      "metadata": {
        "id": "y7vFHGJpxnG9"
      },
      "source": [
        "\n",
        "from __future__ import absolute_import, division, print_function, unicode_literals\n",
        "import matplotlib.pylab as plt\n",
        "import tensorflow as tf\n",
        "import tensorflow_hub as hub\n",
        "import numpy as np\n",
        "import pandas as pd"
      ],
      "execution_count": null,
      "outputs": []
    },
    {
      "cell_type": "code",
      "metadata": {
        "id": "ESSd0ORwAehP",
        "colab": {
          "base_uri": "https://localhost:8080/",
          "height": 84
        },
        "outputId": "14b203ab-67ec-432b-cf4b-56a68a5eeb1e"
      },
      "source": [
        "# menambah presisi data agar lebih baik (perbandingan side-by-side)\n",
        "pd.set_option(\"display.precision\", 8)\n",
        "\n",
        "print(\"Version: \", tf.__version__)\n",
        "print(\"Hub version: \", hub.__version__)\n",
        "print(\"Eager mode: \", tf.executing_eagerly())\n",
        "print(\"GPU is\", \"available\" if tf.test.is_gpu_available() else \"NOT AVAILABLE\")"
      ],
      "execution_count": null,
      "outputs": [
        {
          "output_type": "stream",
          "text": [
            "Version:  2.0.0\n",
            "Hub version:  0.8.0\n",
            "Eager mode:  True\n",
            "GPU is available\n"
          ],
          "name": "stdout"
        }
      ]
    },
    {
      "cell_type": "code",
      "metadata": {
        "id": "8D8KCOMB7zRP",
        "colab": {
          "base_uri": "https://localhost:8080/",
          "height": 34
        },
        "outputId": "394eca1d-1088-4f7f-ae7b-6a7ff10bcc56"
      },
      "source": [
        "from google.colab import drive\n",
        "drive.mount('/content/gdrive')\n",
        "#!unzip -q '/content/gdrive/My Drive/fruit_photos'"
      ],
      "execution_count": null,
      "outputs": [
        {
          "output_type": "stream",
          "text": [
            "Drive already mounted at /content/gdrive; to attempt to forcibly remount, call drive.mount(\"/content/gdrive\", force_remount=True).\n"
          ],
          "name": "stdout"
        }
      ]
    },
    {
      "cell_type": "code",
      "metadata": {
        "id": "aJBjrBGOfOAw"
      },
      "source": [
        "data_root = '/content/gdrive/My Drive/fruit_photos'"
      ],
      "execution_count": null,
      "outputs": []
    },
    {
      "cell_type": "code",
      "metadata": {
        "id": "FJyrI5GedCRq",
        "colab": {
          "base_uri": "https://localhost:8080/",
          "height": 67
        },
        "outputId": "990866ab-a4c0-42db-f227-f1d43918571b"
      },
      "source": [
        "IMAGE_SHAPE = (224, 224)\n",
        "TRAINING_DATA_DIR = str(data_root)\n",
        "print(TRAINING_DATA_DIR);\n",
        "datagen_kwargs = dict(rescale=1./255, validation_split=.20)\n",
        "valid_datagen = tf.keras.preprocessing.image.ImageDataGenerator(**datagen_kwargs)\n",
        "valid_generator = valid_datagen.flow_from_directory(\n",
        "TRAINING_DATA_DIR,\n",
        "subset=\"validation\",\n",
        "shuffle=True,\n",
        "target_size=IMAGE_SHAPE\n",
        ")\n",
        "train_datagen = tf.keras.preprocessing.image.ImageDataGenerator(**datagen_kwargs)\n",
        "train_generator = train_datagen.flow_from_directory(\n",
        "TRAINING_DATA_DIR,\n",
        "subset=\"training\",\n",
        "shuffle=True,\n",
        "target_size=IMAGE_SHAPE)"
      ],
      "execution_count": null,
      "outputs": [
        {
          "output_type": "stream",
          "text": [
            "/content/gdrive/My Drive/fruit_photos\n",
            "Found 150 images belonging to 6 classes.\n",
            "Found 612 images belonging to 6 classes.\n"
          ],
          "name": "stdout"
        }
      ]
    },
    {
      "cell_type": "code",
      "metadata": {
        "id": "lETblSj-pyXj",
        "colab": {
          "base_uri": "https://localhost:8080/",
          "height": 67
        },
        "outputId": "14714788-0505-4430-df72-dc5f5a6edba6"
      },
      "source": [
        "image_batch_train, label_batch_train = next(iter(train_generator))\n",
        "print(\"Image batch shape: \", image_batch_train.shape)\n",
        "print(\"Label batch shape: \", label_batch_train.shape)\n",
        "dataset_labels = sorted(train_generator.class_indices.items(), key=lambda pair:pair[1])\n",
        "dataset_labels = np.array([key.title() for key, value in dataset_labels])\n",
        "print(dataset_labels)"
      ],
      "execution_count": null,
      "outputs": [
        {
          "output_type": "stream",
          "text": [
            "Image batch shape:  (32, 224, 224, 3)\n",
            "Label batch shape:  (32, 6)\n",
            "['Alpukat' 'Anggur' 'Apel' 'Jeruk' 'Pisang' 'Unknown']\n"
          ],
          "name": "stdout"
        }
      ]
    },
    {
      "cell_type": "markdown",
      "metadata": {
        "id": "X4S3AaMzGBNQ"
      },
      "source": [
        "# 5 jenis buah memasuki proses latih dengan *Deep learning* (*Convolutional Neural Network*)"
      ]
    },
    {
      "cell_type": "markdown",
      "metadata": {
        "id": "rshSXyyqHyyG"
      },
      "source": [
        "## Menambah Model dengan Mobilenet_V2"
      ]
    },
    {
      "cell_type": "code",
      "metadata": {
        "id": "sUsnxr4tp-o0",
        "colab": {
          "base_uri": "https://localhost:8080/",
          "height": 252
        },
        "outputId": "02688bdd-925a-4d8c-f71d-ab63b98be095"
      },
      "source": [
        "model = tf.keras.Sequential([\n",
        "hub.KerasLayer(\"https://tfhub.dev/google/tf2-preview/mobilenet_v2/feature_vector/4\",\n",
        "output_shape=[1280],\n",
        "trainable=False),\n",
        "tf.keras.layers.Dropout(0.4),\n",
        "tf.keras.layers.Dense(train_generator.num_classes, activation='softmax')\n",
        "])\n",
        "model.build([None, 224, 224, 3])\n",
        "model.summary()\n",
        "model.compile(\n",
        "optimizer=tf.keras.optimizers.Adam(),\n",
        "loss='categorical_crossentropy',\n",
        "metrics=['acc'])"
      ],
      "execution_count": null,
      "outputs": [
        {
          "output_type": "stream",
          "text": [
            "Model: \"sequential_4\"\n",
            "_________________________________________________________________\n",
            "Layer (type)                 Output Shape              Param #   \n",
            "=================================================================\n",
            "keras_layer_4 (KerasLayer)   multiple                  2257984   \n",
            "_________________________________________________________________\n",
            "dropout_4 (Dropout)          multiple                  0         \n",
            "_________________________________________________________________\n",
            "dense_4 (Dense)              multiple                  7686      \n",
            "=================================================================\n",
            "Total params: 2,265,670\n",
            "Trainable params: 7,686\n",
            "Non-trainable params: 2,257,984\n",
            "_________________________________________________________________\n"
          ],
          "name": "stdout"
        }
      ]
    },
    {
      "cell_type": "markdown",
      "metadata": {
        "id": "znfsdjUfsSsq"
      },
      "source": [
        "Potongan Program diatas Mengeksport MobileNet_v2 sebagai arsitektur Deep Learning yang dapat menghandle gambar sebagai modelnya."
      ]
    },
    {
      "cell_type": "markdown",
      "metadata": {
        "id": "Jw5OJcvfH7-F"
      },
      "source": [
        "## Proses Pelatihan"
      ]
    },
    {
      "cell_type": "code",
      "metadata": {
        "id": "WYCK-qCpqKS1",
        "colab": {
          "base_uri": "https://localhost:8080/",
          "height": 1000
        },
        "outputId": "67556144-50bd-48f6-8e96-7ff01530a67d"
      },
      "source": [
        "steps_per_epoch = np.ceil(train_generator.samples/train_generator.batch_size)\n",
        "val_steps_per_epoch = np.ceil(valid_generator.samples/valid_generator.batch_size)\n",
        "hist = model.fit(\n",
        "train_generator,\n",
        "epochs=100,\n",
        "verbose=1,\n",
        "steps_per_epoch=steps_per_epoch,\n",
        "validation_data=valid_generator,\n",
        "validation_steps=val_steps_per_epoch).history"
      ],
      "execution_count": null,
      "outputs": [
        {
          "output_type": "stream",
          "text": [
            "/usr/local/lib/python3.6/dist-packages/PIL/Image.py:932: UserWarning: Palette images with Transparency expressed in bytes should be converted to RGBA images\n",
            "  \"Palette images with Transparency expressed in bytes should be \"\n"
          ],
          "name": "stderr"
        },
        {
          "output_type": "stream",
          "text": [
            "Train for 20.0 steps, validate for 5.0 steps\n",
            "Epoch 1/100\n",
            "WARNING:tensorflow:Unresolved object in checkpoint: (root).optimizer.beta_1\n"
          ],
          "name": "stdout"
        },
        {
          "output_type": "stream",
          "text": [
            "WARNING:tensorflow:Unresolved object in checkpoint: (root).optimizer.beta_1\n"
          ],
          "name": "stderr"
        },
        {
          "output_type": "stream",
          "text": [
            "WARNING:tensorflow:Unresolved object in checkpoint: (root).optimizer.beta_2\n"
          ],
          "name": "stdout"
        },
        {
          "output_type": "stream",
          "text": [
            "WARNING:tensorflow:Unresolved object in checkpoint: (root).optimizer.beta_2\n"
          ],
          "name": "stderr"
        },
        {
          "output_type": "stream",
          "text": [
            "WARNING:tensorflow:Unresolved object in checkpoint: (root).optimizer.decay\n"
          ],
          "name": "stdout"
        },
        {
          "output_type": "stream",
          "text": [
            "WARNING:tensorflow:Unresolved object in checkpoint: (root).optimizer.decay\n"
          ],
          "name": "stderr"
        },
        {
          "output_type": "stream",
          "text": [
            "WARNING:tensorflow:Unresolved object in checkpoint: (root).optimizer.learning_rate\n"
          ],
          "name": "stdout"
        },
        {
          "output_type": "stream",
          "text": [
            "WARNING:tensorflow:Unresolved object in checkpoint: (root).optimizer.learning_rate\n"
          ],
          "name": "stderr"
        },
        {
          "output_type": "stream",
          "text": [
            "WARNING:tensorflow:Unresolved object in checkpoint: (root).optimizer's state 'm' for (root).layer-2.kernel\n"
          ],
          "name": "stdout"
        },
        {
          "output_type": "stream",
          "text": [
            "WARNING:tensorflow:Unresolved object in checkpoint: (root).optimizer's state 'm' for (root).layer-2.kernel\n"
          ],
          "name": "stderr"
        },
        {
          "output_type": "stream",
          "text": [
            "WARNING:tensorflow:Unresolved object in checkpoint: (root).optimizer's state 'm' for (root).layer-2.bias\n"
          ],
          "name": "stdout"
        },
        {
          "output_type": "stream",
          "text": [
            "WARNING:tensorflow:Unresolved object in checkpoint: (root).optimizer's state 'm' for (root).layer-2.bias\n"
          ],
          "name": "stderr"
        },
        {
          "output_type": "stream",
          "text": [
            "WARNING:tensorflow:Unresolved object in checkpoint: (root).optimizer's state 'v' for (root).layer-2.kernel\n"
          ],
          "name": "stdout"
        },
        {
          "output_type": "stream",
          "text": [
            "WARNING:tensorflow:Unresolved object in checkpoint: (root).optimizer's state 'v' for (root).layer-2.kernel\n"
          ],
          "name": "stderr"
        },
        {
          "output_type": "stream",
          "text": [
            "WARNING:tensorflow:Unresolved object in checkpoint: (root).optimizer's state 'v' for (root).layer-2.bias\n"
          ],
          "name": "stdout"
        },
        {
          "output_type": "stream",
          "text": [
            "WARNING:tensorflow:Unresolved object in checkpoint: (root).optimizer's state 'v' for (root).layer-2.bias\n"
          ],
          "name": "stderr"
        },
        {
          "output_type": "stream",
          "text": [
            "WARNING:tensorflow:A checkpoint was restored (e.g. tf.train.Checkpoint.restore or tf.keras.Model.load_weights) but not all checkpointed values were used. See above for specific issues. Use expect_partial() on the load status object, e.g. tf.train.Checkpoint.restore(...).expect_partial(), to silence these warnings, or use assert_consumed() to make the check explicit. See https://www.tensorflow.org/alpha/guide/checkpoints#loading_mechanics for details.\n"
          ],
          "name": "stdout"
        },
        {
          "output_type": "stream",
          "text": [
            "WARNING:tensorflow:A checkpoint was restored (e.g. tf.train.Checkpoint.restore or tf.keras.Model.load_weights) but not all checkpointed values were used. See above for specific issues. Use expect_partial() on the load status object, e.g. tf.train.Checkpoint.restore(...).expect_partial(), to silence these warnings, or use assert_consumed() to make the check explicit. See https://www.tensorflow.org/alpha/guide/checkpoints#loading_mechanics for details.\n"
          ],
          "name": "stderr"
        },
        {
          "output_type": "stream",
          "text": [
            "WARNING:tensorflow:Unresolved object in checkpoint: (root).optimizer\n"
          ],
          "name": "stdout"
        },
        {
          "output_type": "stream",
          "text": [
            "WARNING:tensorflow:Unresolved object in checkpoint: (root).optimizer\n"
          ],
          "name": "stderr"
        },
        {
          "output_type": "stream",
          "text": [
            "WARNING:tensorflow:Unresolved object in checkpoint: (root).optimizer.iter\n"
          ],
          "name": "stdout"
        },
        {
          "output_type": "stream",
          "text": [
            "WARNING:tensorflow:Unresolved object in checkpoint: (root).optimizer.iter\n"
          ],
          "name": "stderr"
        },
        {
          "output_type": "stream",
          "text": [
            "WARNING:tensorflow:Unresolved object in checkpoint: (root).optimizer.beta_1\n"
          ],
          "name": "stdout"
        },
        {
          "output_type": "stream",
          "text": [
            "WARNING:tensorflow:Unresolved object in checkpoint: (root).optimizer.beta_1\n"
          ],
          "name": "stderr"
        },
        {
          "output_type": "stream",
          "text": [
            "WARNING:tensorflow:Unresolved object in checkpoint: (root).optimizer.beta_2\n"
          ],
          "name": "stdout"
        },
        {
          "output_type": "stream",
          "text": [
            "WARNING:tensorflow:Unresolved object in checkpoint: (root).optimizer.beta_2\n"
          ],
          "name": "stderr"
        },
        {
          "output_type": "stream",
          "text": [
            "WARNING:tensorflow:Unresolved object in checkpoint: (root).optimizer.decay\n"
          ],
          "name": "stdout"
        },
        {
          "output_type": "stream",
          "text": [
            "WARNING:tensorflow:Unresolved object in checkpoint: (root).optimizer.decay\n"
          ],
          "name": "stderr"
        },
        {
          "output_type": "stream",
          "text": [
            "WARNING:tensorflow:Unresolved object in checkpoint: (root).optimizer.learning_rate\n"
          ],
          "name": "stdout"
        },
        {
          "output_type": "stream",
          "text": [
            "WARNING:tensorflow:Unresolved object in checkpoint: (root).optimizer.learning_rate\n"
          ],
          "name": "stderr"
        },
        {
          "output_type": "stream",
          "text": [
            "WARNING:tensorflow:Unresolved object in checkpoint: (root).optimizer's state 'm' for (root).layer-2.kernel\n"
          ],
          "name": "stdout"
        },
        {
          "output_type": "stream",
          "text": [
            "WARNING:tensorflow:Unresolved object in checkpoint: (root).optimizer's state 'm' for (root).layer-2.kernel\n"
          ],
          "name": "stderr"
        },
        {
          "output_type": "stream",
          "text": [
            "WARNING:tensorflow:Unresolved object in checkpoint: (root).optimizer's state 'm' for (root).layer-2.bias\n"
          ],
          "name": "stdout"
        },
        {
          "output_type": "stream",
          "text": [
            "WARNING:tensorflow:Unresolved object in checkpoint: (root).optimizer's state 'm' for (root).layer-2.bias\n"
          ],
          "name": "stderr"
        },
        {
          "output_type": "stream",
          "text": [
            "WARNING:tensorflow:Unresolved object in checkpoint: (root).optimizer's state 'v' for (root).layer-2.kernel\n"
          ],
          "name": "stdout"
        },
        {
          "output_type": "stream",
          "text": [
            "WARNING:tensorflow:Unresolved object in checkpoint: (root).optimizer's state 'v' for (root).layer-2.kernel\n"
          ],
          "name": "stderr"
        },
        {
          "output_type": "stream",
          "text": [
            "WARNING:tensorflow:Unresolved object in checkpoint: (root).optimizer's state 'v' for (root).layer-2.bias\n"
          ],
          "name": "stdout"
        },
        {
          "output_type": "stream",
          "text": [
            "WARNING:tensorflow:Unresolved object in checkpoint: (root).optimizer's state 'v' for (root).layer-2.bias\n"
          ],
          "name": "stderr"
        },
        {
          "output_type": "stream",
          "text": [
            "WARNING:tensorflow:A checkpoint was restored (e.g. tf.train.Checkpoint.restore or tf.keras.Model.load_weights) but not all checkpointed values were used. See above for specific issues. Use expect_partial() on the load status object, e.g. tf.train.Checkpoint.restore(...).expect_partial(), to silence these warnings, or use assert_consumed() to make the check explicit. See https://www.tensorflow.org/alpha/guide/checkpoints#loading_mechanics for details.\n"
          ],
          "name": "stdout"
        },
        {
          "output_type": "stream",
          "text": [
            "WARNING:tensorflow:A checkpoint was restored (e.g. tf.train.Checkpoint.restore or tf.keras.Model.load_weights) but not all checkpointed values were used. See above for specific issues. Use expect_partial() on the load status object, e.g. tf.train.Checkpoint.restore(...).expect_partial(), to silence these warnings, or use assert_consumed() to make the check explicit. See https://www.tensorflow.org/alpha/guide/checkpoints#loading_mechanics for details.\n",
            "/usr/local/lib/python3.6/dist-packages/PIL/Image.py:932: UserWarning: Palette images with Transparency expressed in bytes should be converted to RGBA images\n",
            "  \"Palette images with Transparency expressed in bytes should be \"\n"
          ],
          "name": "stderr"
        },
        {
          "output_type": "stream",
          "text": [
            "20/20 [==============================] - 35s 2s/step - loss: 1.4528 - acc: 0.4771 - val_loss: 0.7052 - val_acc: 0.7933\n",
            "Epoch 2/100\n",
            "20/20 [==============================] - 29s 1s/step - loss: 0.6041 - acc: 0.8072 - val_loss: 0.4533 - val_acc: 0.8667\n",
            "Epoch 3/100\n",
            "20/20 [==============================] - 29s 1s/step - loss: 0.3853 - acc: 0.8889 - val_loss: 0.3385 - val_acc: 0.9000\n",
            "Epoch 4/100\n",
            "20/20 [==============================] - 29s 1s/step - loss: 0.3088 - acc: 0.9118 - val_loss: 0.2847 - val_acc: 0.9200\n",
            "Epoch 5/100\n",
            "20/20 [==============================] - 29s 1s/step - loss: 0.2611 - acc: 0.9183 - val_loss: 0.2684 - val_acc: 0.9067\n",
            "Epoch 6/100\n",
            "20/20 [==============================] - 29s 1s/step - loss: 0.2037 - acc: 0.9461 - val_loss: 0.2391 - val_acc: 0.9133\n",
            "Epoch 7/100\n",
            "20/20 [==============================] - 29s 1s/step - loss: 0.1650 - acc: 0.9526 - val_loss: 0.2252 - val_acc: 0.9267\n",
            "Epoch 8/100\n",
            "20/20 [==============================] - 29s 1s/step - loss: 0.1627 - acc: 0.9575 - val_loss: 0.2245 - val_acc: 0.9133\n",
            "Epoch 9/100\n",
            "20/20 [==============================] - 29s 1s/step - loss: 0.1479 - acc: 0.9592 - val_loss: 0.2189 - val_acc: 0.9133\n",
            "Epoch 10/100\n",
            "20/20 [==============================] - 29s 1s/step - loss: 0.1253 - acc: 0.9624 - val_loss: 0.2120 - val_acc: 0.9200\n",
            "Epoch 11/100\n",
            "20/20 [==============================] - 29s 1s/step - loss: 0.1221 - acc: 0.9657 - val_loss: 0.2064 - val_acc: 0.9200\n",
            "Epoch 12/100\n",
            "20/20 [==============================] - 30s 1s/step - loss: 0.1011 - acc: 0.9788 - val_loss: 0.2004 - val_acc: 0.9200\n",
            "Epoch 13/100\n",
            "20/20 [==============================] - 29s 1s/step - loss: 0.1010 - acc: 0.9706 - val_loss: 0.2028 - val_acc: 0.9400\n",
            "Epoch 14/100\n",
            "20/20 [==============================] - 29s 1s/step - loss: 0.0852 - acc: 0.9755 - val_loss: 0.1960 - val_acc: 0.9333\n",
            "Epoch 15/100\n",
            "20/20 [==============================] - 29s 1s/step - loss: 0.0897 - acc: 0.9771 - val_loss: 0.1980 - val_acc: 0.9333\n",
            "Epoch 16/100\n",
            "20/20 [==============================] - 30s 1s/step - loss: 0.0878 - acc: 0.9788 - val_loss: 0.1976 - val_acc: 0.9333\n",
            "Epoch 17/100\n",
            "20/20 [==============================] - 30s 1s/step - loss: 0.0670 - acc: 0.9853 - val_loss: 0.1969 - val_acc: 0.9333\n",
            "Epoch 18/100\n",
            "20/20 [==============================] - 30s 1s/step - loss: 0.0659 - acc: 0.9869 - val_loss: 0.1992 - val_acc: 0.9400\n",
            "Epoch 19/100\n",
            "20/20 [==============================] - 30s 2s/step - loss: 0.0638 - acc: 0.9869 - val_loss: 0.1961 - val_acc: 0.9333\n",
            "Epoch 20/100\n",
            "20/20 [==============================] - 30s 1s/step - loss: 0.0655 - acc: 0.9853 - val_loss: 0.1992 - val_acc: 0.9333\n",
            "Epoch 21/100\n",
            "20/20 [==============================] - 29s 1s/step - loss: 0.0480 - acc: 0.9935 - val_loss: 0.1937 - val_acc: 0.9400\n",
            "Epoch 22/100\n",
            "20/20 [==============================] - 29s 1s/step - loss: 0.0528 - acc: 0.9967 - val_loss: 0.1956 - val_acc: 0.9467\n",
            "Epoch 23/100\n",
            "20/20 [==============================] - 30s 1s/step - loss: 0.0490 - acc: 0.9951 - val_loss: 0.1993 - val_acc: 0.9400\n",
            "Epoch 24/100\n",
            "20/20 [==============================] - 29s 1s/step - loss: 0.0590 - acc: 0.9918 - val_loss: 0.1978 - val_acc: 0.9333\n",
            "Epoch 25/100\n",
            "20/20 [==============================] - 29s 1s/step - loss: 0.0441 - acc: 0.9967 - val_loss: 0.2036 - val_acc: 0.9333\n",
            "Epoch 26/100\n",
            "20/20 [==============================] - 29s 1s/step - loss: 0.0443 - acc: 0.9935 - val_loss: 0.2007 - val_acc: 0.9400\n",
            "Epoch 27/100\n",
            "20/20 [==============================] - 29s 1s/step - loss: 0.0398 - acc: 0.9951 - val_loss: 0.1970 - val_acc: 0.9400\n",
            "Epoch 28/100\n",
            "20/20 [==============================] - 29s 1s/step - loss: 0.0335 - acc: 0.9935 - val_loss: 0.1971 - val_acc: 0.9400\n",
            "Epoch 29/100\n",
            "20/20 [==============================] - 29s 1s/step - loss: 0.0303 - acc: 0.9984 - val_loss: 0.2040 - val_acc: 0.9333\n",
            "Epoch 30/100\n",
            "20/20 [==============================] - 29s 1s/step - loss: 0.0355 - acc: 0.9967 - val_loss: 0.2044 - val_acc: 0.9333\n",
            "Epoch 31/100\n",
            "20/20 [==============================] - 29s 1s/step - loss: 0.0314 - acc: 0.9984 - val_loss: 0.2000 - val_acc: 0.9400\n",
            "Epoch 32/100\n",
            "20/20 [==============================] - 29s 1s/step - loss: 0.0321 - acc: 0.9935 - val_loss: 0.2021 - val_acc: 0.9333\n",
            "Epoch 33/100\n",
            "20/20 [==============================] - 29s 1s/step - loss: 0.0367 - acc: 0.9967 - val_loss: 0.2051 - val_acc: 0.9400\n",
            "Epoch 34/100\n",
            "20/20 [==============================] - 29s 1s/step - loss: 0.0301 - acc: 0.9967 - val_loss: 0.2022 - val_acc: 0.9400\n",
            "Epoch 35/100\n",
            "20/20 [==============================] - 29s 1s/step - loss: 0.0306 - acc: 0.9951 - val_loss: 0.1923 - val_acc: 0.9400\n",
            "Epoch 36/100\n",
            "20/20 [==============================] - 29s 1s/step - loss: 0.0271 - acc: 0.9967 - val_loss: 0.1982 - val_acc: 0.9400\n",
            "Epoch 37/100\n",
            "20/20 [==============================] - 29s 1s/step - loss: 0.0304 - acc: 0.9967 - val_loss: 0.2010 - val_acc: 0.9400\n",
            "Epoch 38/100\n",
            "20/20 [==============================] - 29s 1s/step - loss: 0.0261 - acc: 0.9951 - val_loss: 0.2091 - val_acc: 0.9333\n",
            "Epoch 39/100\n",
            "20/20 [==============================] - 29s 1s/step - loss: 0.0219 - acc: 0.9984 - val_loss: 0.2123 - val_acc: 0.9267\n",
            "Epoch 40/100\n",
            "20/20 [==============================] - 29s 1s/step - loss: 0.0278 - acc: 0.9935 - val_loss: 0.2019 - val_acc: 0.9400\n",
            "Epoch 41/100\n",
            "20/20 [==============================] - 29s 1s/step - loss: 0.0223 - acc: 0.9984 - val_loss: 0.1996 - val_acc: 0.9333\n",
            "Epoch 42/100\n",
            "20/20 [==============================] - 29s 1s/step - loss: 0.0188 - acc: 0.9984 - val_loss: 0.2027 - val_acc: 0.9267\n",
            "Epoch 43/100\n",
            "20/20 [==============================] - 29s 1s/step - loss: 0.0238 - acc: 0.9984 - val_loss: 0.2006 - val_acc: 0.9333\n",
            "Epoch 44/100\n",
            "20/20 [==============================] - 30s 1s/step - loss: 0.0288 - acc: 0.9967 - val_loss: 0.2075 - val_acc: 0.9333\n",
            "Epoch 45/100\n",
            "20/20 [==============================] - 30s 1s/step - loss: 0.0198 - acc: 0.9984 - val_loss: 0.2080 - val_acc: 0.9400\n",
            "Epoch 46/100\n",
            "20/20 [==============================] - 29s 1s/step - loss: 0.0201 - acc: 1.0000 - val_loss: 0.2068 - val_acc: 0.9333\n",
            "Epoch 47/100\n",
            "20/20 [==============================] - 29s 1s/step - loss: 0.0180 - acc: 1.0000 - val_loss: 0.2053 - val_acc: 0.9467\n",
            "Epoch 48/100\n",
            "20/20 [==============================] - 29s 1s/step - loss: 0.0218 - acc: 0.9967 - val_loss: 0.2122 - val_acc: 0.9467\n",
            "Epoch 49/100\n",
            "20/20 [==============================] - 30s 1s/step - loss: 0.0171 - acc: 0.9984 - val_loss: 0.2090 - val_acc: 0.9400\n",
            "Epoch 50/100\n",
            "20/20 [==============================] - 30s 1s/step - loss: 0.0173 - acc: 1.0000 - val_loss: 0.2096 - val_acc: 0.9400\n",
            "Epoch 51/100\n",
            "20/20 [==============================] - 30s 1s/step - loss: 0.0175 - acc: 1.0000 - val_loss: 0.2088 - val_acc: 0.9333\n",
            "Epoch 52/100\n",
            "20/20 [==============================] - 30s 1s/step - loss: 0.0145 - acc: 0.9984 - val_loss: 0.2126 - val_acc: 0.9333\n",
            "Epoch 53/100\n",
            "20/20 [==============================] - 29s 1s/step - loss: 0.0153 - acc: 1.0000 - val_loss: 0.2047 - val_acc: 0.9400\n",
            "Epoch 54/100\n",
            "20/20 [==============================] - 30s 1s/step - loss: 0.0152 - acc: 0.9984 - val_loss: 0.2006 - val_acc: 0.9400\n",
            "Epoch 55/100\n",
            "20/20 [==============================] - 30s 1s/step - loss: 0.0170 - acc: 0.9984 - val_loss: 0.2014 - val_acc: 0.9467\n",
            "Epoch 56/100\n",
            "20/20 [==============================] - 29s 1s/step - loss: 0.0168 - acc: 1.0000 - val_loss: 0.2127 - val_acc: 0.9467\n",
            "Epoch 57/100\n",
            "20/20 [==============================] - 29s 1s/step - loss: 0.0139 - acc: 1.0000 - val_loss: 0.2125 - val_acc: 0.9467\n",
            "Epoch 58/100\n",
            "20/20 [==============================] - 29s 1s/step - loss: 0.0126 - acc: 1.0000 - val_loss: 0.2109 - val_acc: 0.9333\n",
            "Epoch 59/100\n",
            "20/20 [==============================] - 29s 1s/step - loss: 0.0115 - acc: 1.0000 - val_loss: 0.2136 - val_acc: 0.9400\n",
            "Epoch 60/100\n",
            "20/20 [==============================] - 29s 1s/step - loss: 0.0120 - acc: 1.0000 - val_loss: 0.2091 - val_acc: 0.9467\n",
            "Epoch 61/100\n",
            "20/20 [==============================] - 30s 1s/step - loss: 0.0165 - acc: 0.9984 - val_loss: 0.2089 - val_acc: 0.9467\n",
            "Epoch 62/100\n",
            "20/20 [==============================] - 29s 1s/step - loss: 0.0146 - acc: 0.9951 - val_loss: 0.2059 - val_acc: 0.9333\n",
            "Epoch 63/100\n",
            "20/20 [==============================] - 29s 1s/step - loss: 0.0178 - acc: 0.9967 - val_loss: 0.2137 - val_acc: 0.9467\n",
            "Epoch 64/100\n",
            "20/20 [==============================] - 29s 1s/step - loss: 0.0145 - acc: 0.9984 - val_loss: 0.2119 - val_acc: 0.9333\n",
            "Epoch 65/100\n",
            "20/20 [==============================] - 28s 1s/step - loss: 0.0141 - acc: 0.9967 - val_loss: 0.2172 - val_acc: 0.9333\n",
            "Epoch 66/100\n",
            "20/20 [==============================] - 28s 1s/step - loss: 0.0143 - acc: 0.9984 - val_loss: 0.2155 - val_acc: 0.9333\n",
            "Epoch 67/100\n",
            "20/20 [==============================] - 28s 1s/step - loss: 0.0106 - acc: 0.9984 - val_loss: 0.2206 - val_acc: 0.9333\n",
            "Epoch 68/100\n",
            "20/20 [==============================] - 27s 1s/step - loss: 0.0110 - acc: 0.9984 - val_loss: 0.2227 - val_acc: 0.9333\n",
            "Epoch 69/100\n",
            "20/20 [==============================] - 27s 1s/step - loss: 0.0103 - acc: 0.9984 - val_loss: 0.2217 - val_acc: 0.9333\n",
            "Epoch 70/100\n",
            "20/20 [==============================] - 27s 1s/step - loss: 0.0132 - acc: 1.0000 - val_loss: 0.2190 - val_acc: 0.9333\n",
            "Epoch 71/100\n",
            "20/20 [==============================] - 28s 1s/step - loss: 0.0095 - acc: 0.9984 - val_loss: 0.2183 - val_acc: 0.9400\n",
            "Epoch 72/100\n",
            "20/20 [==============================] - 29s 1s/step - loss: 0.0131 - acc: 0.9967 - val_loss: 0.2228 - val_acc: 0.9467\n",
            "Epoch 73/100\n",
            "20/20 [==============================] - 28s 1s/step - loss: 0.0108 - acc: 1.0000 - val_loss: 0.2224 - val_acc: 0.9333\n",
            "Epoch 74/100\n",
            "20/20 [==============================] - 28s 1s/step - loss: 0.0114 - acc: 0.9984 - val_loss: 0.2255 - val_acc: 0.9333\n",
            "Epoch 75/100\n",
            "20/20 [==============================] - 27s 1s/step - loss: 0.0094 - acc: 1.0000 - val_loss: 0.2258 - val_acc: 0.9400\n",
            "Epoch 76/100\n",
            "20/20 [==============================] - 27s 1s/step - loss: 0.0109 - acc: 1.0000 - val_loss: 0.2240 - val_acc: 0.9400\n",
            "Epoch 77/100\n",
            "20/20 [==============================] - 27s 1s/step - loss: 0.0076 - acc: 1.0000 - val_loss: 0.2222 - val_acc: 0.9400\n",
            "Epoch 78/100\n",
            "20/20 [==============================] - 27s 1s/step - loss: 0.0096 - acc: 1.0000 - val_loss: 0.2253 - val_acc: 0.9400\n",
            "Epoch 79/100\n",
            "20/20 [==============================] - 27s 1s/step - loss: 0.0120 - acc: 0.9984 - val_loss: 0.2253 - val_acc: 0.9400\n",
            "Epoch 80/100\n",
            "20/20 [==============================] - 27s 1s/step - loss: 0.0084 - acc: 1.0000 - val_loss: 0.2257 - val_acc: 0.9333\n",
            "Epoch 81/100\n",
            "20/20 [==============================] - 27s 1s/step - loss: 0.0081 - acc: 1.0000 - val_loss: 0.2254 - val_acc: 0.9400\n",
            "Epoch 82/100\n",
            "20/20 [==============================] - 26s 1s/step - loss: 0.0089 - acc: 0.9984 - val_loss: 0.2301 - val_acc: 0.9333\n",
            "Epoch 83/100\n",
            "20/20 [==============================] - 26s 1s/step - loss: 0.0080 - acc: 0.9984 - val_loss: 0.2255 - val_acc: 0.9333\n",
            "Epoch 84/100\n",
            "20/20 [==============================] - 26s 1s/step - loss: 0.0078 - acc: 1.0000 - val_loss: 0.2226 - val_acc: 0.9400\n",
            "Epoch 85/100\n",
            "20/20 [==============================] - 27s 1s/step - loss: 0.0097 - acc: 0.9984 - val_loss: 0.2322 - val_acc: 0.9400\n",
            "Epoch 86/100\n",
            "20/20 [==============================] - 26s 1s/step - loss: 0.0091 - acc: 1.0000 - val_loss: 0.2380 - val_acc: 0.9333\n",
            "Epoch 87/100\n",
            "20/20 [==============================] - 26s 1s/step - loss: 0.0085 - acc: 1.0000 - val_loss: 0.2420 - val_acc: 0.9333\n",
            "Epoch 88/100\n",
            "20/20 [==============================] - 27s 1s/step - loss: 0.0103 - acc: 1.0000 - val_loss: 0.2326 - val_acc: 0.9333\n",
            "Epoch 89/100\n",
            "20/20 [==============================] - 26s 1s/step - loss: 0.0069 - acc: 1.0000 - val_loss: 0.2292 - val_acc: 0.9333\n",
            "Epoch 90/100\n",
            "20/20 [==============================] - 27s 1s/step - loss: 0.0085 - acc: 1.0000 - val_loss: 0.2321 - val_acc: 0.9333\n",
            "Epoch 91/100\n",
            "20/20 [==============================] - 27s 1s/step - loss: 0.0083 - acc: 1.0000 - val_loss: 0.2386 - val_acc: 0.9333\n",
            "Epoch 92/100\n",
            "20/20 [==============================] - 27s 1s/step - loss: 0.0075 - acc: 0.9984 - val_loss: 0.2455 - val_acc: 0.9333\n",
            "Epoch 93/100\n",
            "20/20 [==============================] - 27s 1s/step - loss: 0.0079 - acc: 1.0000 - val_loss: 0.2473 - val_acc: 0.9400\n",
            "Epoch 94/100\n",
            "20/20 [==============================] - 28s 1s/step - loss: 0.0100 - acc: 0.9984 - val_loss: 0.2349 - val_acc: 0.9333\n",
            "Epoch 95/100\n",
            "20/20 [==============================] - 28s 1s/step - loss: 0.0085 - acc: 1.0000 - val_loss: 0.2394 - val_acc: 0.9333\n",
            "Epoch 96/100\n",
            "20/20 [==============================] - 27s 1s/step - loss: 0.0066 - acc: 1.0000 - val_loss: 0.2353 - val_acc: 0.9333\n",
            "Epoch 97/100\n",
            "20/20 [==============================] - 27s 1s/step - loss: 0.0056 - acc: 1.0000 - val_loss: 0.2318 - val_acc: 0.9333\n",
            "Epoch 98/100\n",
            "20/20 [==============================] - 27s 1s/step - loss: 0.0057 - acc: 1.0000 - val_loss: 0.2363 - val_acc: 0.9333\n",
            "Epoch 99/100\n",
            "20/20 [==============================] - 27s 1s/step - loss: 0.0082 - acc: 1.0000 - val_loss: 0.2304 - val_acc: 0.9333\n",
            "Epoch 100/100\n",
            "20/20 [==============================] - 27s 1s/step - loss: 0.0060 - acc: 1.0000 - val_loss: 0.2320 - val_acc: 0.9333\n"
          ],
          "name": "stdout"
        }
      ]
    },
    {
      "cell_type": "markdown",
      "metadata": {
        "id": "bl6iYdsPqawg"
      },
      "source": [
        "## Evaluasi setelah proses Latih Model"
      ]
    },
    {
      "cell_type": "code",
      "metadata": {
        "id": "BQ0iODBGCNVW",
        "colab": {
          "base_uri": "https://localhost:8080/",
          "height": 84
        },
        "outputId": "b9f25ff3-28d6-4e2e-931f-d7b48db3714e"
      },
      "source": [
        "#Memeriksa matriks model\n",
        "print(model.metrics_names)\n",
        "#Memeriksa Akurasi dan Loss setelah proses latih model\n",
        "final_loss, final_accuracy = model.evaluate(valid_generator, steps = val_steps_per_epoch)\n",
        "\n",
        "print(\"Final loss: {:.2f}\".format(final_loss))\n",
        "print(\"Final accuracy: {:.2f}%\".format(final_accuracy * 100))"
      ],
      "execution_count": null,
      "outputs": [
        {
          "output_type": "stream",
          "text": [
            "['loss', 'acc']\n",
            "5/5 [==============================] - 4s 742ms/step - loss: 0.2320 - acc: 0.9333\n",
            "Final loss: 0.23\n",
            "Final accuracy: 93.33%\n"
          ],
          "name": "stdout"
        }
      ]
    },
    {
      "cell_type": "markdown",
      "metadata": {
        "id": "uAxGctr007kt"
      },
      "source": [
        "## Diagram Hasil Latih Model\n",
        "\n",
        "\n"
      ]
    },
    {
      "cell_type": "code",
      "metadata": {
        "id": "u0h-Jn_mCRrz",
        "colab": {
          "base_uri": "https://localhost:8080/",
          "height": 513
        },
        "outputId": "1b7c5108-25cc-48f8-9cb1-874227b5a1be"
      },
      "source": [
        "# Visualisasi training proses dari model\n",
        "\n",
        "plt.plot(hist[\"loss\"], label=\"Kesalahan Training\")\n",
        "plt.plot(hist[\"val_loss\"], label=\"Validasi Kesalahan\")\n",
        "plt.legend()\n",
        "plt.show()\n",
        "\n",
        "plt.plot(hist[\"acc\"],label=\"Akurasi Training\")\n",
        "plt.plot(hist[\"val_acc\"],label=\"Validasi Akurasi\")\n",
        "plt.legend()\n",
        "plt.show()"
      ],
      "execution_count": null,
      "outputs": [
        {
          "output_type": "display_data",
          "data": {
            "image/png": "[encoded data removed]",
            "text/plain": [
              "<Figure size 432x288 with 1 Axes>"
            ]
          },
          "metadata": {
            "tags": [],
            "needs_background": "light"
          }
        },
        {
          "output_type": "display_data",
          "data": {
            "image/png": "[encoded data removed]",
            "text/plain": [
              "<Figure size 432x288 with 1 Axes>"
            ]
          },
          "metadata": {
            "tags": [],
            "needs_background": "light"
          }
        }
      ]
    },
    {
      "cell_type": "markdown",
      "metadata": {
        "id": "Crt3UPuqqpUf"
      },
      "source": [
        "## Eksport Hasil Latih Model ke dalam folder"
      ]
    },
    {
      "cell_type": "code",
      "metadata": {
        "id": "zQaIrVpFu9EB",
        "colab": {
          "base_uri": "https://localhost:8080/",
          "height": 1000
        },
        "outputId": "18a9dc2a-fa05-4497-ae7b-e2a48606f86a"
      },
      "source": [
        "FRUIT_SAVED_MODEL = \"saved_models/fruit\"\n",
        "tf.keras.experimental.export_saved_model(model, FRUIT_SAVED_MODEL)\n",
        "fruit_model = tf.keras.experimental.load_from_saved_model(FRUIT_SAVED_MODEL,\n",
        "custom_objects={'KerasLayer':hub.KerasLayer})"
      ],
      "execution_count": null,
      "outputs": [
        {
          "output_type": "stream",
          "text": [
            "INFO:tensorflow:Signatures INCLUDED in export for Classify: None\n"
          ],
          "name": "stdout"
        },
        {
          "output_type": "stream",
          "text": [
            "INFO:tensorflow:Signatures INCLUDED in export for Classify: None\n"
          ],
          "name": "stderr"
        },
        {
          "output_type": "stream",
          "text": [
            "INFO:tensorflow:Signatures INCLUDED in export for Regress: None\n"
          ],
          "name": "stdout"
        },
        {
          "output_type": "stream",
          "text": [
            "INFO:tensorflow:Signatures INCLUDED in export for Regress: None\n"
          ],
          "name": "stderr"
        },
        {
          "output_type": "stream",
          "text": [
            "INFO:tensorflow:Signatures INCLUDED in export for Predict: None\n"
          ],
          "name": "stdout"
        },
        {
          "output_type": "stream",
          "text": [
            "INFO:tensorflow:Signatures INCLUDED in export for Predict: None\n"
          ],
          "name": "stderr"
        },
        {
          "output_type": "stream",
          "text": [
            "INFO:tensorflow:Signatures INCLUDED in export for Train: ['train']\n"
          ],
          "name": "stdout"
        },
        {
          "output_type": "stream",
          "text": [
            "INFO:tensorflow:Signatures INCLUDED in export for Train: ['train']\n"
          ],
          "name": "stderr"
        },
        {
          "output_type": "stream",
          "text": [
            "INFO:tensorflow:Signatures INCLUDED in export for Eval: None\n"
          ],
          "name": "stdout"
        },
        {
          "output_type": "stream",
          "text": [
            "INFO:tensorflow:Signatures INCLUDED in export for Eval: None\n"
          ],
          "name": "stderr"
        },
        {
          "output_type": "stream",
          "text": [
            "WARNING:tensorflow:Export includes no default signature!\n"
          ],
          "name": "stdout"
        },
        {
          "output_type": "stream",
          "text": [
            "WARNING:tensorflow:Export includes no default signature!\n"
          ],
          "name": "stderr"
        },
        {
          "output_type": "stream",
          "text": [
            "WARNING:tensorflow:Issue encountered when serializing variables.\n",
            "Type is unsupported, or the types of the items don't match field type in CollectionDef. Note this is a warning and probably safe to ignore.\n",
            "'list' object has no attribute 'name'\n"
          ],
          "name": "stdout"
        },
        {
          "output_type": "stream",
          "text": [
            "WARNING:tensorflow:Issue encountered when serializing variables.\n",
            "Type is unsupported, or the types of the items don't match field type in CollectionDef. Note this is a warning and probably safe to ignore.\n",
            "'list' object has no attribute 'name'\n"
          ],
          "name": "stderr"
        },
        {
          "output_type": "stream",
          "text": [
            "INFO:tensorflow:No assets to save.\n"
          ],
          "name": "stdout"
        },
        {
          "output_type": "stream",
          "text": [
            "INFO:tensorflow:No assets to save.\n"
          ],
          "name": "stderr"
        },
        {
          "output_type": "stream",
          "text": [
            "INFO:tensorflow:No assets to write.\n"
          ],
          "name": "stdout"
        },
        {
          "output_type": "stream",
          "text": [
            "INFO:tensorflow:No assets to write.\n"
          ],
          "name": "stderr"
        },
        {
          "output_type": "stream",
          "text": [
            "INFO:tensorflow:Signatures INCLUDED in export for Classify: None\n"
          ],
          "name": "stdout"
        },
        {
          "output_type": "stream",
          "text": [
            "INFO:tensorflow:Signatures INCLUDED in export for Classify: None\n"
          ],
          "name": "stderr"
        },
        {
          "output_type": "stream",
          "text": [
            "INFO:tensorflow:Signatures INCLUDED in export for Regress: None\n"
          ],
          "name": "stdout"
        },
        {
          "output_type": "stream",
          "text": [
            "INFO:tensorflow:Signatures INCLUDED in export for Regress: None\n"
          ],
          "name": "stderr"
        },
        {
          "output_type": "stream",
          "text": [
            "INFO:tensorflow:Signatures INCLUDED in export for Predict: None\n"
          ],
          "name": "stdout"
        },
        {
          "output_type": "stream",
          "text": [
            "INFO:tensorflow:Signatures INCLUDED in export for Predict: None\n"
          ],
          "name": "stderr"
        },
        {
          "output_type": "stream",
          "text": [
            "INFO:tensorflow:Signatures INCLUDED in export for Train: None\n"
          ],
          "name": "stdout"
        },
        {
          "output_type": "stream",
          "text": [
            "INFO:tensorflow:Signatures INCLUDED in export for Train: None\n"
          ],
          "name": "stderr"
        },
        {
          "output_type": "stream",
          "text": [
            "INFO:tensorflow:Signatures INCLUDED in export for Eval: ['eval']\n"
          ],
          "name": "stdout"
        },
        {
          "output_type": "stream",
          "text": [
            "INFO:tensorflow:Signatures INCLUDED in export for Eval: ['eval']\n"
          ],
          "name": "stderr"
        },
        {
          "output_type": "stream",
          "text": [
            "WARNING:tensorflow:Export includes no default signature!\n"
          ],
          "name": "stdout"
        },
        {
          "output_type": "stream",
          "text": [
            "WARNING:tensorflow:Export includes no default signature!\n"
          ],
          "name": "stderr"
        },
        {
          "output_type": "stream",
          "text": [
            "WARNING:tensorflow:Issue encountered when serializing variables.\n",
            "Type is unsupported, or the types of the items don't match field type in CollectionDef. Note this is a warning and probably safe to ignore.\n",
            "'list' object has no attribute 'name'\n"
          ],
          "name": "stdout"
        },
        {
          "output_type": "stream",
          "text": [
            "WARNING:tensorflow:Issue encountered when serializing variables.\n",
            "Type is unsupported, or the types of the items don't match field type in CollectionDef. Note this is a warning and probably safe to ignore.\n",
            "'list' object has no attribute 'name'\n"
          ],
          "name": "stderr"
        },
        {
          "output_type": "stream",
          "text": [
            "INFO:tensorflow:No assets to save.\n"
          ],
          "name": "stdout"
        },
        {
          "output_type": "stream",
          "text": [
            "INFO:tensorflow:No assets to save.\n"
          ],
          "name": "stderr"
        },
        {
          "output_type": "stream",
          "text": [
            "INFO:tensorflow:No assets to write.\n"
          ],
          "name": "stdout"
        },
        {
          "output_type": "stream",
          "text": [
            "INFO:tensorflow:No assets to write.\n"
          ],
          "name": "stderr"
        },
        {
          "output_type": "stream",
          "text": [
            "INFO:tensorflow:Signatures INCLUDED in export for Classify: None\n"
          ],
          "name": "stdout"
        },
        {
          "output_type": "stream",
          "text": [
            "INFO:tensorflow:Signatures INCLUDED in export for Classify: None\n"
          ],
          "name": "stderr"
        },
        {
          "output_type": "stream",
          "text": [
            "INFO:tensorflow:Signatures INCLUDED in export for Regress: None\n"
          ],
          "name": "stdout"
        },
        {
          "output_type": "stream",
          "text": [
            "INFO:tensorflow:Signatures INCLUDED in export for Regress: None\n"
          ],
          "name": "stderr"
        },
        {
          "output_type": "stream",
          "text": [
            "INFO:tensorflow:Signatures INCLUDED in export for Predict: ['serving_default']\n"
          ],
          "name": "stdout"
        },
        {
          "output_type": "stream",
          "text": [
            "INFO:tensorflow:Signatures INCLUDED in export for Predict: ['serving_default']\n"
          ],
          "name": "stderr"
        },
        {
          "output_type": "stream",
          "text": [
            "INFO:tensorflow:Signatures INCLUDED in export for Train: None\n"
          ],
          "name": "stdout"
        },
        {
          "output_type": "stream",
          "text": [
            "INFO:tensorflow:Signatures INCLUDED in export for Train: None\n"
          ],
          "name": "stderr"
        },
        {
          "output_type": "stream",
          "text": [
            "INFO:tensorflow:Signatures INCLUDED in export for Eval: None\n"
          ],
          "name": "stdout"
        },
        {
          "output_type": "stream",
          "text": [
            "INFO:tensorflow:Signatures INCLUDED in export for Eval: None\n"
          ],
          "name": "stderr"
        },
        {
          "output_type": "stream",
          "text": [
            "WARNING:tensorflow:Issue encountered when serializing variables.\n",
            "Type is unsupported, or the types of the items don't match field type in CollectionDef. Note this is a warning and probably safe to ignore.\n",
            "'list' object has no attribute 'name'\n"
          ],
          "name": "stdout"
        },
        {
          "output_type": "stream",
          "text": [
            "WARNING:tensorflow:Issue encountered when serializing variables.\n",
            "Type is unsupported, or the types of the items don't match field type in CollectionDef. Note this is a warning and probably safe to ignore.\n",
            "'list' object has no attribute 'name'\n"
          ],
          "name": "stderr"
        },
        {
          "output_type": "stream",
          "text": [
            "INFO:tensorflow:No assets to save.\n"
          ],
          "name": "stdout"
        },
        {
          "output_type": "stream",
          "text": [
            "INFO:tensorflow:No assets to save.\n"
          ],
          "name": "stderr"
        },
        {
          "output_type": "stream",
          "text": [
            "INFO:tensorflow:No assets to write.\n"
          ],
          "name": "stdout"
        },
        {
          "output_type": "stream",
          "text": [
            "INFO:tensorflow:No assets to write.\n"
          ],
          "name": "stderr"
        },
        {
          "output_type": "stream",
          "text": [
            "INFO:tensorflow:SavedModel written to: saved_models/fruit/saved_model.pb\n"
          ],
          "name": "stdout"
        },
        {
          "output_type": "stream",
          "text": [
            "INFO:tensorflow:SavedModel written to: saved_models/fruit/saved_model.pb\n"
          ],
          "name": "stderr"
        },
        {
          "output_type": "stream",
          "text": [
            "WARNING:tensorflow:Unresolved object in checkpoint: (root).optimizer.beta_1\n"
          ],
          "name": "stdout"
        },
        {
          "output_type": "stream",
          "text": [
            "WARNING:tensorflow:Unresolved object in checkpoint: (root).optimizer.beta_1\n"
          ],
          "name": "stderr"
        },
        {
          "output_type": "stream",
          "text": [
            "WARNING:tensorflow:Unresolved object in checkpoint: (root).optimizer.beta_2\n"
          ],
          "name": "stdout"
        },
        {
          "output_type": "stream",
          "text": [
            "WARNING:tensorflow:Unresolved object in checkpoint: (root).optimizer.beta_2\n"
          ],
          "name": "stderr"
        },
        {
          "output_type": "stream",
          "text": [
            "WARNING:tensorflow:Unresolved object in checkpoint: (root).optimizer.decay\n"
          ],
          "name": "stdout"
        },
        {
          "output_type": "stream",
          "text": [
            "WARNING:tensorflow:Unresolved object in checkpoint: (root).optimizer.decay\n"
          ],
          "name": "stderr"
        },
        {
          "output_type": "stream",
          "text": [
            "WARNING:tensorflow:Unresolved object in checkpoint: (root).optimizer.learning_rate\n"
          ],
          "name": "stdout"
        },
        {
          "output_type": "stream",
          "text": [
            "WARNING:tensorflow:Unresolved object in checkpoint: (root).optimizer.learning_rate\n"
          ],
          "name": "stderr"
        },
        {
          "output_type": "stream",
          "text": [
            "WARNING:tensorflow:Unresolved object in checkpoint: (root).optimizer's state 'm' for (root).layer-2.kernel\n"
          ],
          "name": "stdout"
        },
        {
          "output_type": "stream",
          "text": [
            "WARNING:tensorflow:Unresolved object in checkpoint: (root).optimizer's state 'm' for (root).layer-2.kernel\n"
          ],
          "name": "stderr"
        },
        {
          "output_type": "stream",
          "text": [
            "WARNING:tensorflow:Unresolved object in checkpoint: (root).optimizer's state 'm' for (root).layer-2.bias\n"
          ],
          "name": "stdout"
        },
        {
          "output_type": "stream",
          "text": [
            "WARNING:tensorflow:Unresolved object in checkpoint: (root).optimizer's state 'm' for (root).layer-2.bias\n"
          ],
          "name": "stderr"
        },
        {
          "output_type": "stream",
          "text": [
            "WARNING:tensorflow:Unresolved object in checkpoint: (root).optimizer's state 'v' for (root).layer-2.kernel\n"
          ],
          "name": "stdout"
        },
        {
          "output_type": "stream",
          "text": [
            "WARNING:tensorflow:Unresolved object in checkpoint: (root).optimizer's state 'v' for (root).layer-2.kernel\n"
          ],
          "name": "stderr"
        },
        {
          "output_type": "stream",
          "text": [
            "WARNING:tensorflow:Unresolved object in checkpoint: (root).optimizer's state 'v' for (root).layer-2.bias\n"
          ],
          "name": "stdout"
        },
        {
          "output_type": "stream",
          "text": [
            "WARNING:tensorflow:Unresolved object in checkpoint: (root).optimizer's state 'v' for (root).layer-2.bias\n"
          ],
          "name": "stderr"
        },
        {
          "output_type": "stream",
          "text": [
            "WARNING:tensorflow:A checkpoint was restored (e.g. tf.train.Checkpoint.restore or tf.keras.Model.load_weights) but not all checkpointed values were used. See above for specific issues. Use expect_partial() on the load status object, e.g. tf.train.Checkpoint.restore(...).expect_partial(), to silence these warnings, or use assert_consumed() to make the check explicit. See https://www.tensorflow.org/alpha/guide/checkpoints#loading_mechanics for details.\n"
          ],
          "name": "stdout"
        },
        {
          "output_type": "stream",
          "text": [
            "WARNING:tensorflow:A checkpoint was restored (e.g. tf.train.Checkpoint.restore or tf.keras.Model.load_weights) but not all checkpointed values were used. See above for specific issues. Use expect_partial() on the load status object, e.g. tf.train.Checkpoint.restore(...).expect_partial(), to silence these warnings, or use assert_consumed() to make the check explicit. See https://www.tensorflow.org/alpha/guide/checkpoints#loading_mechanics for details.\n"
          ],
          "name": "stderr"
        },
        {
          "output_type": "stream",
          "text": [
            "WARNING:tensorflow:Unresolved object in checkpoint: (root).optimizer\n"
          ],
          "name": "stdout"
        },
        {
          "output_type": "stream",
          "text": [
            "WARNING:tensorflow:Unresolved object in checkpoint: (root).optimizer\n"
          ],
          "name": "stderr"
        },
        {
          "output_type": "stream",
          "text": [
            "WARNING:tensorflow:Unresolved object in checkpoint: (root).optimizer.iter\n"
          ],
          "name": "stdout"
        },
        {
          "output_type": "stream",
          "text": [
            "WARNING:tensorflow:Unresolved object in checkpoint: (root).optimizer.iter\n"
          ],
          "name": "stderr"
        },
        {
          "output_type": "stream",
          "text": [
            "WARNING:tensorflow:Unresolved object in checkpoint: (root).optimizer.beta_1\n"
          ],
          "name": "stdout"
        },
        {
          "output_type": "stream",
          "text": [
            "WARNING:tensorflow:Unresolved object in checkpoint: (root).optimizer.beta_1\n"
          ],
          "name": "stderr"
        },
        {
          "output_type": "stream",
          "text": [
            "WARNING:tensorflow:Unresolved object in checkpoint: (root).optimizer.beta_2\n"
          ],
          "name": "stdout"
        },
        {
          "output_type": "stream",
          "text": [
            "WARNING:tensorflow:Unresolved object in checkpoint: (root).optimizer.beta_2\n"
          ],
          "name": "stderr"
        },
        {
          "output_type": "stream",
          "text": [
            "WARNING:tensorflow:Unresolved object in checkpoint: (root).optimizer.decay\n"
          ],
          "name": "stdout"
        },
        {
          "output_type": "stream",
          "text": [
            "WARNING:tensorflow:Unresolved object in checkpoint: (root).optimizer.decay\n"
          ],
          "name": "stderr"
        },
        {
          "output_type": "stream",
          "text": [
            "WARNING:tensorflow:Unresolved object in checkpoint: (root).optimizer.learning_rate\n"
          ],
          "name": "stdout"
        },
        {
          "output_type": "stream",
          "text": [
            "WARNING:tensorflow:Unresolved object in checkpoint: (root).optimizer.learning_rate\n"
          ],
          "name": "stderr"
        },
        {
          "output_type": "stream",
          "text": [
            "WARNING:tensorflow:Unresolved object in checkpoint: (root).optimizer's state 'm' for (root).layer-2.kernel\n"
          ],
          "name": "stdout"
        },
        {
          "output_type": "stream",
          "text": [
            "WARNING:tensorflow:Unresolved object in checkpoint: (root).optimizer's state 'm' for (root).layer-2.kernel\n"
          ],
          "name": "stderr"
        },
        {
          "output_type": "stream",
          "text": [
            "WARNING:tensorflow:Unresolved object in checkpoint: (root).optimizer's state 'm' for (root).layer-2.bias\n"
          ],
          "name": "stdout"
        },
        {
          "output_type": "stream",
          "text": [
            "WARNING:tensorflow:Unresolved object in checkpoint: (root).optimizer's state 'm' for (root).layer-2.bias\n"
          ],
          "name": "stderr"
        },
        {
          "output_type": "stream",
          "text": [
            "WARNING:tensorflow:Unresolved object in checkpoint: (root).optimizer's state 'v' for (root).layer-2.kernel\n"
          ],
          "name": "stdout"
        },
        {
          "output_type": "stream",
          "text": [
            "WARNING:tensorflow:Unresolved object in checkpoint: (root).optimizer's state 'v' for (root).layer-2.kernel\n"
          ],
          "name": "stderr"
        },
        {
          "output_type": "stream",
          "text": [
            "WARNING:tensorflow:Unresolved object in checkpoint: (root).optimizer's state 'v' for (root).layer-2.bias\n"
          ],
          "name": "stdout"
        },
        {
          "output_type": "stream",
          "text": [
            "WARNING:tensorflow:Unresolved object in checkpoint: (root).optimizer's state 'v' for (root).layer-2.bias\n"
          ],
          "name": "stderr"
        },
        {
          "output_type": "stream",
          "text": [
            "WARNING:tensorflow:A checkpoint was restored (e.g. tf.train.Checkpoint.restore or tf.keras.Model.load_weights) but not all checkpointed values were used. See above for specific issues. Use expect_partial() on the load status object, e.g. tf.train.Checkpoint.restore(...).expect_partial(), to silence these warnings, or use assert_consumed() to make the check explicit. See https://www.tensorflow.org/alpha/guide/checkpoints#loading_mechanics for details.\n"
          ],
          "name": "stdout"
        },
        {
          "output_type": "stream",
          "text": [
            "WARNING:tensorflow:A checkpoint was restored (e.g. tf.train.Checkpoint.restore or tf.keras.Model.load_weights) but not all checkpointed values were used. See above for specific issues. Use expect_partial() on the load status object, e.g. tf.train.Checkpoint.restore(...).expect_partial(), to silence these warnings, or use assert_consumed() to make the check explicit. See https://www.tensorflow.org/alpha/guide/checkpoints#loading_mechanics for details.\n"
          ],
          "name": "stderr"
        },
        {
          "output_type": "stream",
          "text": [
            "WARNING:tensorflow:Unresolved object in checkpoint: (root).optimizer\n"
          ],
          "name": "stdout"
        },
        {
          "output_type": "stream",
          "text": [
            "WARNING:tensorflow:Unresolved object in checkpoint: (root).optimizer\n"
          ],
          "name": "stderr"
        },
        {
          "output_type": "stream",
          "text": [
            "WARNING:tensorflow:Unresolved object in checkpoint: (root).optimizer.iter\n"
          ],
          "name": "stdout"
        },
        {
          "output_type": "stream",
          "text": [
            "WARNING:tensorflow:Unresolved object in checkpoint: (root).optimizer.iter\n"
          ],
          "name": "stderr"
        },
        {
          "output_type": "stream",
          "text": [
            "WARNING:tensorflow:Unresolved object in checkpoint: (root).optimizer.beta_1\n"
          ],
          "name": "stdout"
        },
        {
          "output_type": "stream",
          "text": [
            "WARNING:tensorflow:Unresolved object in checkpoint: (root).optimizer.beta_1\n"
          ],
          "name": "stderr"
        },
        {
          "output_type": "stream",
          "text": [
            "WARNING:tensorflow:Unresolved object in checkpoint: (root).optimizer.beta_2\n"
          ],
          "name": "stdout"
        },
        {
          "output_type": "stream",
          "text": [
            "WARNING:tensorflow:Unresolved object in checkpoint: (root).optimizer.beta_2\n"
          ],
          "name": "stderr"
        },
        {
          "output_type": "stream",
          "text": [
            "WARNING:tensorflow:Unresolved object in checkpoint: (root).optimizer.decay\n"
          ],
          "name": "stdout"
        },
        {
          "output_type": "stream",
          "text": [
            "WARNING:tensorflow:Unresolved object in checkpoint: (root).optimizer.decay\n"
          ],
          "name": "stderr"
        },
        {
          "output_type": "stream",
          "text": [
            "WARNING:tensorflow:Unresolved object in checkpoint: (root).optimizer.learning_rate\n"
          ],
          "name": "stdout"
        },
        {
          "output_type": "stream",
          "text": [
            "WARNING:tensorflow:Unresolved object in checkpoint: (root).optimizer.learning_rate\n"
          ],
          "name": "stderr"
        },
        {
          "output_type": "stream",
          "text": [
            "WARNING:tensorflow:Unresolved object in checkpoint: (root).optimizer's state 'm' for (root).layer-2.kernel\n"
          ],
          "name": "stdout"
        },
        {
          "output_type": "stream",
          "text": [
            "WARNING:tensorflow:Unresolved object in checkpoint: (root).optimizer's state 'm' for (root).layer-2.kernel\n"
          ],
          "name": "stderr"
        },
        {
          "output_type": "stream",
          "text": [
            "WARNING:tensorflow:Unresolved object in checkpoint: (root).optimizer's state 'm' for (root).layer-2.bias\n"
          ],
          "name": "stdout"
        },
        {
          "output_type": "stream",
          "text": [
            "WARNING:tensorflow:Unresolved object in checkpoint: (root).optimizer's state 'm' for (root).layer-2.bias\n"
          ],
          "name": "stderr"
        },
        {
          "output_type": "stream",
          "text": [
            "WARNING:tensorflow:Unresolved object in checkpoint: (root).optimizer's state 'v' for (root).layer-2.kernel\n"
          ],
          "name": "stdout"
        },
        {
          "output_type": "stream",
          "text": [
            "WARNING:tensorflow:Unresolved object in checkpoint: (root).optimizer's state 'v' for (root).layer-2.kernel\n"
          ],
          "name": "stderr"
        },
        {
          "output_type": "stream",
          "text": [
            "WARNING:tensorflow:Unresolved object in checkpoint: (root).optimizer's state 'v' for (root).layer-2.bias\n"
          ],
          "name": "stdout"
        },
        {
          "output_type": "stream",
          "text": [
            "WARNING:tensorflow:Unresolved object in checkpoint: (root).optimizer's state 'v' for (root).layer-2.bias\n"
          ],
          "name": "stderr"
        },
        {
          "output_type": "stream",
          "text": [
            "WARNING:tensorflow:A checkpoint was restored (e.g. tf.train.Checkpoint.restore or tf.keras.Model.load_weights) but not all checkpointed values were used. See above for specific issues. Use expect_partial() on the load status object, e.g. tf.train.Checkpoint.restore(...).expect_partial(), to silence these warnings, or use assert_consumed() to make the check explicit. See https://www.tensorflow.org/alpha/guide/checkpoints#loading_mechanics for details.\n"
          ],
          "name": "stdout"
        },
        {
          "output_type": "stream",
          "text": [
            "WARNING:tensorflow:A checkpoint was restored (e.g. tf.train.Checkpoint.restore or tf.keras.Model.load_weights) but not all checkpointed values were used. See above for specific issues. Use expect_partial() on the load status object, e.g. tf.train.Checkpoint.restore(...).expect_partial(), to silence these warnings, or use assert_consumed() to make the check explicit. See https://www.tensorflow.org/alpha/guide/checkpoints#loading_mechanics for details.\n"
          ],
          "name": "stderr"
        }
      ]
    },
    {
      "cell_type": "code",
      "metadata": {
        "id": "FyUiOxr_vcKI",
        "colab": {
          "base_uri": "https://localhost:8080/",
          "height": 34
        },
        "outputId": "c4bdd770-e94a-4ba1-838a-9b542ae5ac45"
      },
      "source": [
        "val_image_batch, val_label_batch = next(iter(valid_generator))\n",
        "true_label_ids = np.argmax(val_label_batch, axis=-1)\n",
        "print(\"Validation batch shape:\", val_image_batch.shape)"
      ],
      "execution_count": null,
      "outputs": [
        {
          "output_type": "stream",
          "text": [
            "Validation batch shape: (32, 224, 224, 3)\n"
          ],
          "name": "stdout"
        }
      ]
    },
    {
      "cell_type": "markdown",
      "metadata": {
        "id": "YRRO34pxYsGz"
      },
      "source": [
        "## Melihat Hasil Prediksi dalam bentuk tabel setelah training"
      ]
    },
    {
      "cell_type": "code",
      "metadata": {
        "id": "guifZmqdvgrl",
        "colab": {
          "base_uri": "https://localhost:8080/",
          "height": 212
        },
        "outputId": "efa5886b-0342-45e5-ff45-c20f8637a7e0"
      },
      "source": [
        "tf_model_predictions = fruit_model.predict(val_image_batch)\n",
        "tf_pred_dataframe = pd.DataFrame(tf_model_predictions)\n",
        "tf_pred_dataframe.columns = dataset_labels\n",
        "print(\"Prediction results for the first elements\")\n",
        "tf_pred_dataframe.head()"
      ],
      "execution_count": null,
      "outputs": [
        {
          "output_type": "stream",
          "text": [
            "Prediction results for the first elements\n"
          ],
          "name": "stdout"
        },
        {
          "output_type": "execute_result",
          "data": {
            "text/html": [
              "<div>\n",
              "<style scoped>\n",
              "    .dataframe tbody tr th:only-of-type {\n",
              "        vertical-align: middle;\n",
              "    }\n",
              "\n",
              "    .dataframe tbody tr th {\n",
              "        vertical-align: top;\n",
              "    }\n",
              "\n",
              "    .dataframe thead th {\n",
              "        text-align: right;\n",
              "    }\n",
              "</style>\n",
              "<table border=\"1\" class=\"dataframe\">\n",
              "  <thead>\n",
              "    <tr style=\"text-align: right;\">\n",
              "      <th></th>\n",
              "      <th>Alpukat</th>\n",
              "      <th>Anggur</th>\n",
              "      <th>Apel</th>\n",
              "      <th>Jeruk</th>\n",
              "      <th>Pisang</th>\n",
              "      <th>Unknown</th>\n",
              "    </tr>\n",
              "  </thead>\n",
              "  <tbody>\n",
              "    <tr>\n",
              "      <th>0</th>\n",
              "      <td>0.00000007</td>\n",
              "      <td>0.00000015</td>\n",
              "      <td>0.00000065</td>\n",
              "      <td>0.99998915</td>\n",
              "      <td>0.00000014</td>\n",
              "      <td>0.00000989</td>\n",
              "    </tr>\n",
              "    <tr>\n",
              "      <th>1</th>\n",
              "      <td>0.00000035</td>\n",
              "      <td>0.00000001</td>\n",
              "      <td>0.00000056</td>\n",
              "      <td>0.99985647</td>\n",
              "      <td>0.00000010</td>\n",
              "      <td>0.00014240</td>\n",
              "    </tr>\n",
              "    <tr>\n",
              "      <th>2</th>\n",
              "      <td>0.00000104</td>\n",
              "      <td>0.00004915</td>\n",
              "      <td>0.99763286</td>\n",
              "      <td>0.00000065</td>\n",
              "      <td>0.00000016</td>\n",
              "      <td>0.00231623</td>\n",
              "    </tr>\n",
              "    <tr>\n",
              "      <th>3</th>\n",
              "      <td>0.00000920</td>\n",
              "      <td>0.00000244</td>\n",
              "      <td>0.00000084</td>\n",
              "      <td>0.00000006</td>\n",
              "      <td>0.99983549</td>\n",
              "      <td>0.00015201</td>\n",
              "    </tr>\n",
              "    <tr>\n",
              "      <th>4</th>\n",
              "      <td>0.00000161</td>\n",
              "      <td>0.00002005</td>\n",
              "      <td>0.00042440</td>\n",
              "      <td>0.98831302</td>\n",
              "      <td>0.00001874</td>\n",
              "      <td>0.01122219</td>\n",
              "    </tr>\n",
              "  </tbody>\n",
              "</table>\n",
              "</div>"
            ],
            "text/plain": [
              "      Alpukat      Anggur        Apel       Jeruk      Pisang     Unknown\n",
              "0  0.00000007  0.00000015  0.00000065  0.99998915  0.00000014  0.00000989\n",
              "1  0.00000035  0.00000001  0.00000056  0.99985647  0.00000010  0.00014240\n",
              "2  0.00000104  0.00004915  0.99763286  0.00000065  0.00000016  0.00231623\n",
              "3  0.00000920  0.00000244  0.00000084  0.00000006  0.99983549  0.00015201\n",
              "4  0.00000161  0.00002005  0.00042440  0.98831302  0.00001874  0.01122219"
            ]
          },
          "metadata": {
            "tags": []
          },
          "execution_count": 107
        }
      ]
    },
    {
      "cell_type": "markdown",
      "metadata": {
        "id": "JfFbECkarABy"
      },
      "source": [
        "## Prediksi Gambar Secara Acak"
      ]
    },
    {
      "cell_type": "code",
      "metadata": {
        "id": "ooqYFCk3vp1X",
        "colab": {
          "base_uri": "https://localhost:8080/",
          "height": 412
        },
        "outputId": "4c0487f0-e307-4878-8c13-e50a4200707f"
      },
      "source": [
        "predicted_ids = np.argmax(tf_model_predictions, axis=-1)\n",
        "predicted_labels = dataset_labels[predicted_ids]\n",
        "plt.figure(figsize=(10,9))\n",
        "plt.subplots_adjust(hspace=0.5)\n",
        "for n in range(20):\n",
        " plt.subplot(6,5,n+1)\n",
        " plt.imshow(val_image_batch[n])\n",
        " color = \"green\" if predicted_ids[n] == true_label_ids[n] else \"red\"\n",
        " plt.title(predicted_labels[n].title(), color=color)\n",
        " plt.axis('off')\n",
        "_ = plt.suptitle(\"Model predictions (green: correct, red: incorrect)\")"
      ],
      "execution_count": null,
      "outputs": [
        {
          "output_type": "display_data",
          "data": {
            "image/png": "[encoded data removed]",
            "text/plain": [
              "<Figure size 720x648 with 20 Axes>"
            ]
          },
          "metadata": {
            "tags": [],
            "needs_background": "light"
          }
        }
      ]
    },
    {
      "cell_type": "code",
      "metadata": {
        "id": "cZQ2MpsvwQ62"
      },
      "source": [
        "!mkdir \"tflite_models\"\n",
        "TFLITE_MODEL = \"tflite_models/fruit.tflite\"\n",
        "#TFLITE_QUANT_MODEL = \"tflite_models/fruit_quant.tflite\""
      ],
      "execution_count": null,
      "outputs": []
    },
    {
      "cell_type": "code",
      "metadata": {
        "id": "VSNBKTMuwcaD",
        "colab": {
          "base_uri": "https://localhost:8080/",
          "height": 67
        },
        "outputId": "738eb392-839f-42cc-f62e-c4a1f7e3adeb"
      },
      "source": [
        "# Get the concrete function from the Keras model.\n",
        "run_model = tf.function(lambda x : fruit_model(x))\n",
        "# Save the concrete function.\n",
        "concrete_func = run_model.get_concrete_function(\n",
        "tf.TensorSpec(model.inputs[0].shape, model.inputs[0].dtype)\n",
        ")\n",
        "# Convert the model\n",
        "converter = tf.lite.TFLiteConverter.from_concrete_functions([concrete_func])\n",
        "converted_tflite_model = converter.convert()\n",
        "open(TFLITE_MODEL, \"wb\").write(converted_tflite_model)\n",
        "\n",
        "print(\"TFLite models and their sizes:\")\n",
        "!ls \"tflite_models\" -lh"
      ],
      "execution_count": null,
      "outputs": [
        {
          "output_type": "stream",
          "text": [
            "TFLite models and their sizes:\n",
            "total 8.5M\n",
            "-rw-r--r-- 1 root root 8.5M Jul 29 15:40 fruit.tflite\n"
          ],
          "name": "stdout"
        }
      ]
    },
    {
      "cell_type": "code",
      "metadata": {
        "id": "ctYXXJwTxLln",
        "colab": {
          "base_uri": "https://localhost:8080/",
          "height": 168
        },
        "outputId": "9d3bc7df-2e0b-420a-b60b-6605a09886c4"
      },
      "source": [
        "# Load TFLite model and see some details about input/output\n",
        "\n",
        "tflite_interpreter = tf.lite.Interpreter(model_path=TFLITE_MODEL)\n",
        "\n",
        "input_details = tflite_interpreter.get_input_details()\n",
        "output_details = tflite_interpreter.get_output_details()\n",
        "\n",
        "print(\"== Input details ==\")\n",
        "print(\"name:\", input_details[0]['name'])\n",
        "print(\"shape:\", input_details[0]['shape'])\n",
        "print(\"type:\", input_details[0]['dtype'])\n",
        "\n",
        "print(\"\\n== Output details ==\")\n",
        "print(\"name:\", output_details[0]['name'])\n",
        "print(\"shape:\", output_details[0]['shape'])\n",
        "print(\"type:\", output_details[0]['dtype'])"
      ],
      "execution_count": null,
      "outputs": [
        {
          "output_type": "stream",
          "text": [
            "== Input details ==\n",
            "name: x\n",
            "shape: [  1 224 224   3]\n",
            "type: <class 'numpy.float32'>\n",
            "\n",
            "== Output details ==\n",
            "name: Identity\n",
            "shape: [1 6]\n",
            "type: <class 'numpy.float32'>\n"
          ],
          "name": "stdout"
        }
      ]
    },
    {
      "cell_type": "code",
      "metadata": {
        "id": "GOvsMA8BxS3M",
        "colab": {
          "base_uri": "https://localhost:8080/",
          "height": 168
        },
        "outputId": "376de51a-2878-4a42-c976-90da53efab0e"
      },
      "source": [
        "tflite_interpreter.resize_tensor_input(input_details[0]['index'], (32, 224, 224, 3))\n",
        "tflite_interpreter.resize_tensor_input(output_details[0]['index'], (32, 5))\n",
        "tflite_interpreter.allocate_tensors()\n",
        "\n",
        "input_details = tflite_interpreter.get_input_details()\n",
        "output_details = tflite_interpreter.get_output_details()\n",
        "\n",
        "print(\"== Input details ==\")\n",
        "print(\"name:\", input_details[0]['name'])\n",
        "print(\"shape:\", input_details[0]['shape'])\n",
        "print(\"type:\", input_details[0]['dtype'])\n",
        "\n",
        "print(\"\\n== Output details ==\")\n",
        "print(\"name:\", output_details[0]['name'])\n",
        "print(\"shape:\", output_details[0]['shape'])\n",
        "print(\"type:\", output_details[0]['dtype'])"
      ],
      "execution_count": null,
      "outputs": [
        {
          "output_type": "stream",
          "text": [
            "== Input details ==\n",
            "name: x\n",
            "shape: [ 32 224 224   3]\n",
            "type: <class 'numpy.float32'>\n",
            "\n",
            "== Output details ==\n",
            "name: Identity\n",
            "shape: [32  6]\n",
            "type: <class 'numpy.float32'>\n"
          ],
          "name": "stdout"
        }
      ]
    },
    {
      "cell_type": "code",
      "metadata": {
        "id": "Ae0HB6UXxYHN",
        "colab": {
          "base_uri": "https://localhost:8080/",
          "height": 34
        },
        "outputId": "1a78cae6-9a23-4612-b59c-d601f6f5e285"
      },
      "source": [
        "tflite_interpreter.set_tensor(input_details[0]['index'], val_image_batch)\n",
        "\n",
        "tflite_interpreter.invoke()\n",
        "\n",
        "tflite_model_predictions = tflite_interpreter.get_tensor(output_details[0]['index'])\n",
        "print(\"Prediction results shape:\", tflite_model_predictions.shape)"
      ],
      "execution_count": null,
      "outputs": [
        {
          "output_type": "stream",
          "text": [
            "Prediction results shape: (32, 6)\n"
          ],
          "name": "stdout"
        }
      ]
    },
    {
      "cell_type": "code",
      "metadata": {
        "id": "5EJJq5c33Gmb"
      },
      "source": [
        "# Concatenate results from all models\n",
        "#all_models_dataframe = pd.concat([tf_pred_dataframe, \n",
        "#                                  tflite_pred_dataframe], \n",
        "#                                 keys=['TF Model', 'TFLite'],\n",
        "#                                 axis='columns')\n",
        "\n",
        "#all_models_dataframe.head()"
      ],
      "execution_count": null,
      "outputs": []
    },
    {
      "cell_type": "code",
      "metadata": {
        "id": "hR8xrPeUxc09"
      },
      "source": [
        "# Convert prediction results to Pandas dataframe, for better visualization\n",
        "\n",
        "#tflite_pred_dataframe = pd.DataFrame(tflite_model_predictions)\n",
        "#tflite_pred_dataframe.columns = dataset_labels\n",
        "\n",
        "#print(\"TFLite prediction results for the first elements\")\n",
        "#tflite_pred_dataframe.head()\n",
        "\n",
        "# Concatenate results from all models\n",
        "#all_models_dataframe = pd.concat([tf_pred_dataframe, \n",
        "#                                  tflite_pred_dataframe, \n",
        "#                                  tflite_q_pred_dataframe], \n",
        "#                                 keys=['TF Model', 'TFLite', 'TFLite quantized'],\n",
        "#                                 axis='columns')\n",
        "\n",
        "#all_models_dataframe.head()"
      ],
      "execution_count": null,
      "outputs": []
    },
    {
      "cell_type": "code",
      "metadata": {
        "id": "hYMjjgsPxmzI"
      },
      "source": [
        "# Load quantized TFLite model\n",
        "#tflite_interpreter_quant = tf.lite.Interpreter(model_path=TFLITE_QUANT_MODEL)\n",
        "\n",
        "# Learn about its input and output details\n",
        "#input_details = tflite_interpreter_quant.get_input_details()\n",
        "#output_details = tflite_interpreter_quant.get_output_details()\n",
        "\n",
        "# Resize input and output tensors to handle batch of 32 images\n",
        "#tflite_interpreter_quant.resize_tensor_input(input_details[0]['index'], (32, 224, 224, 3))\n",
        "#tflite_interpreter_quant.resize_tensor_input(output_details[0]['index'], (32, 5))\n",
        "#tflite_interpreter_quant.allocate_tensors()\n",
        "\n",
        "#input_details = tflite_interpreter_quant.get_input_details()\n",
        "#output_details = tflite_interpreter_quant.get_output_details()\n",
        "\n",
        "#print(\"== Input details ==\")\n",
        "#print(\"name:\", input_details[0]['name'])\n",
        "#print(\"shape:\", input_details[0]['shape'])\n",
        "#print(\"type:\", input_details[0]['dtype'])\n",
        "\n",
        "#print(\"\\n== Output details ==\")\n",
        "#print(\"name:\", output_details[0]['name'])\n",
        "#print(\"shape:\", output_details[0]['shape'])\n",
        "#print(\"type:\", output_details[0]['dtype'])\n",
        "\n",
        "# Run inference\n",
        "#tflite_interpreter_quant.set_tensor(input_details[0]['index'], val_image_batch)\n",
        "\n",
        "#tflite_interpreter_quant.invoke()\n",
        "\n",
        "#tflite_q_model_predictions = tflite_interpreter_quant.get_tensor(output_details[0]['index'])\n",
        "#print(\"\\nPrediction results shape:\", tflite_q_model_predictions.shape)"
      ],
      "execution_count": null,
      "outputs": []
    },
    {
      "cell_type": "code",
      "metadata": {
        "id": "PALEBdavxtWo"
      },
      "source": [
        "# Convert prediction results to Pandas dataframe, for better visualization\n",
        "\n",
        "#tflite_q_pred_dataframe = pd.DataFrame(tflite_q_model_predictions)\n",
        "#tflite_q_pred_dataframe.columns = dataset_labels\n",
        "\n",
        "#print(\"Quantized TFLite model prediction results for the first elements\")\n",
        "#tflite_q_pred_dataframe.head()"
      ],
      "execution_count": null,
      "outputs": []
    },
    {
      "cell_type": "code",
      "metadata": {
        "id": "Pr4hPBk13B6T"
      },
      "source": [
        "# Swap columns to hava side by side comparison\n",
        "\n",
        "#all_models_dataframe = all_models_dataframe.swaplevel(axis='columns')[tflite_pred_dataframe.columns]\n",
        "#all_models_dataframe.head()"
      ],
      "execution_count": null,
      "outputs": []
    }
  ]
}